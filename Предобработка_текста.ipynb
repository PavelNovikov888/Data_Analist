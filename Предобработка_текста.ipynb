{
  "nbformat": 4,
  "nbformat_minor": 0,
  "metadata": {
    "colab": {
      "provenance": [],
      "authorship_tag": "ABX9TyP0xSgbI+yUNDcySfDcFnt+",
      "include_colab_link": true
    },
    "kernelspec": {
      "name": "python3",
      "display_name": "Python 3"
    },
    "language_info": {
      "name": "python"
    }
  },
  "cells": [
    {
      "cell_type": "markdown",
      "metadata": {
        "id": "view-in-github",
        "colab_type": "text"
      },
      "source": [
        "<a href=\"https://colab.research.google.com/github/PavelNovikov888/Data_Analyst/blob/main/%D0%9F%D1%80%D0%B5%D0%B4%D0%BE%D0%B1%D1%80%D0%B0%D0%B1%D0%BE%D1%82%D0%BA%D0%B0_%D1%82%D0%B5%D0%BA%D1%81%D1%82%D0%B0.ipynb\" target=\"_parent\"><img src=\"https://colab.research.google.com/assets/colab-badge.svg\" alt=\"Open In Colab\"/></a>"
      ]
    },
    {
      "cell_type": "code",
      "execution_count": 2,
      "metadata": {
        "id": "CZ_TBiU-7WrQ"
      },
      "outputs": [],
      "source": [
        "import string"
      ]
    },
    {
      "cell_type": "code",
      "source": [
        "# @title Удаление знаков препинания в Python\n",
        "s = 'Hello, world!!!'\n",
        "translator = str.maketrans(\"\",\"\", string.punctuation)\n",
        "s = s.translate(translator)\n",
        "print(s)"
      ],
      "metadata": {
        "colab": {
          "base_uri": "https://localhost:8080/"
        },
        "id": "OeZAemwD7cXr",
        "outputId": "e9f9afe1-bd9c-4f22-c8e0-1910493d96dc"
      },
      "execution_count": 3,
      "outputs": [
        {
          "output_type": "stream",
          "name": "stdout",
          "text": [
            "Hello world\n"
          ]
        }
      ]
    },
    {
      "cell_type": "code",
      "source": [
        "from string import punctuation\n",
        "exclude = set(punctuation)\n",
        "\"\".join(i for i in s if i not in exclude)"
      ],
      "metadata": {
        "colab": {
          "base_uri": "https://localhost:8080/",
          "height": 35
        },
        "id": "I8m_NtJC8gg1",
        "outputId": "d874b560-2746-427a-acdc-8d9f26b77eec"
      },
      "execution_count": 4,
      "outputs": [
        {
          "output_type": "execute_result",
          "data": {
            "text/plain": [
              "'Hello world'"
            ],
            "application/vnd.google.colaboratory.intrinsic+json": {
              "type": "string"
            }
          },
          "metadata": {},
          "execution_count": 4
        }
      ]
    },
    {
      "cell_type": "code",
      "source": [
        "# @title Приведение к нижнему регистру\n",
        "s = 'Hello, world!!!'\n",
        "s_low = s.lower()\n",
        "print(s_low)"
      ],
      "metadata": {
        "colab": {
          "base_uri": "https://localhost:8080/"
        },
        "id": "PfExszUrCsqG",
        "outputId": "49399b88-3a53-4edc-cb3c-8c41a47fde60"
      },
      "execution_count": 5,
      "outputs": [
        {
          "output_type": "stream",
          "name": "stdout",
          "text": [
            "hello, world!!!\n"
          ]
        }
      ]
    },
    {
      "cell_type": "code",
      "source": [
        "! pip install stop-words"
      ],
      "metadata": {
        "colab": {
          "base_uri": "https://localhost:8080/"
        },
        "id": "1Vg5KyQDHOLg",
        "outputId": "aef0c455-2c33-4c64-b5ed-568d1ff3d533"
      },
      "execution_count": 6,
      "outputs": [
        {
          "output_type": "stream",
          "name": "stdout",
          "text": [
            "Collecting stop-words\n",
            "  Downloading stop-words-2018.7.23.tar.gz (31 kB)\n",
            "  Preparing metadata (setup.py) ... \u001b[?25l\u001b[?25hdone\n",
            "Building wheels for collected packages: stop-words\n",
            "  Building wheel for stop-words (setup.py) ... \u001b[?25l\u001b[?25hdone\n",
            "  Created wheel for stop-words: filename=stop_words-2018.7.23-py3-none-any.whl size=32896 sha256=debc1b88bedd87bd51c514b7c91d7aea73135dbb37b5c940b11116325fd2d770\n",
            "  Stored in directory: /root/.cache/pip/wheels/d0/1a/23/f12552a50cb09bcc1694a5ebb6c2cd5f2a0311de2b8c3d9a89\n",
            "Successfully built stop-words\n",
            "Installing collected packages: stop-words\n",
            "Successfully installed stop-words-2018.7.23\n"
          ]
        }
      ]
    },
    {
      "cell_type": "code",
      "source": [
        "# @title Удаление стоп-слов\n",
        "# ! pip install stop-words\n",
        "from stop_words import get_stop_words\n",
        "\n",
        "s = \"не Существует несколько алгоритмов для не выделения коллокаций в коллекции текстов, \\\n",
        "Но мы не будем углубляться в анализ плюсов и минусов этих алгоритмов\"\n",
        "words2filter = set(get_stop_words(\"ru\"))\n",
        "stroka = \" \".join(word for word in s.split() if word not in words2filter)\n",
        "print(stroka)"
      ],
      "metadata": {
        "colab": {
          "base_uri": "https://localhost:8080/"
        },
        "id": "mC5ft9uoDjfr",
        "outputId": "127942ba-1706-4e4b-f0a3-65c474f961dd"
      },
      "execution_count": 7,
      "outputs": [
        {
          "output_type": "stream",
          "name": "stdout",
          "text": [
            "Существует алгоритмов выделения коллокаций коллекции текстов, Но углубляться анализ плюсов минусов алгоритмов\n"
          ]
        }
      ]
    },
    {
      "cell_type": "code",
      "source": [],
      "metadata": {
        "id": "cv8TQ8VWFonC"
      },
      "execution_count": 7,
      "outputs": []
    }
  ]
}